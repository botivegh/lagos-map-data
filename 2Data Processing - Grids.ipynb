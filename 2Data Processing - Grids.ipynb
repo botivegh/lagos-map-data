{
 "cells": [
  {
   "cell_type": "markdown",
   "metadata": {},
   "source": [
    "# Data Processing - Calculate Wealth Level, Urbanisation Rate, Competition for grids"
   ]
  },
  {
   "cell_type": "code",
   "execution_count": 9,
   "metadata": {},
   "outputs": [],
   "source": [
    "import geopandas as gpd\n",
    "import pandas as pd\n",
    "import numpy as np\n",
    "from shapely.geometry import Point, LineString, Polygon, shape\n",
    "import math\n",
    "import seaborn as sns\n",
    "import requests\n",
    "import json"
   ]
  },
  {
   "cell_type": "markdown",
   "metadata": {},
   "source": [
    "----"
   ]
  },
  {
   "cell_type": "markdown",
   "metadata": {},
   "source": [
    "# Geocompetiton Calculation"
   ]
  },
  {
   "cell_type": "code",
   "execution_count": 10,
   "metadata": {},
   "outputs": [],
   "source": [
    "## read store data\n",
    "df_stores = pd.read_csv('./data/lagos_stores.csv')"
   ]
  },
  {
   "cell_type": "code",
   "execution_count": null,
   "metadata": {},
   "outputs": [],
   "source": []
  },
  {
   "cell_type": "code",
   "execution_count": 11,
   "metadata": {},
   "outputs": [],
   "source": [
    "## Use significant columns\n",
    "df_stores = df_stores[['Store ID', 'Country', 'City', 'Latitude','Longitude', 'Brand Owner','Brand Owner Origin','Address', 'Company Name', 'Fascia', 'Floorspace', 'Format', 'Price Range']]"
   ]
  },
  {
   "cell_type": "code",
   "execution_count": 12,
   "metadata": {},
   "outputs": [],
   "source": [
    "## Filter for the format we observe\n",
    "df_stores = df_stores[df_stores.Format.isin(['Supermarket (Supermarkets, Hypermarkets and Department Stores)','Convenience and Forecourt', 'Traditional'])]"
   ]
  },
  {
   "cell_type": "code",
   "execution_count": 13,
   "metadata": {},
   "outputs": [],
   "source": [
    "## drop stores without coords if there is any\n",
    "df_stores.dropna(subset=['Longitude'], inplace=True)"
   ]
  },
  {
   "cell_type": "code",
   "execution_count": 14,
   "metadata": {},
   "outputs": [],
   "source": [
    "## convert to geopandas DF\n",
    "gdf_stores = gpd.GeoDataFrame(df_stores, geometry=gpd.points_from_xy(df_stores.Longitude, df_stores.Latitude), crs='EPSG:4326')"
   ]
  },
  {
   "cell_type": "markdown",
   "metadata": {},
   "source": [
    "### Floorspace - drive distance mapping\n",
    "\n",
    "| Floospace (m) | Time/Isochrone (mins) |\n",
    "|:---:|:---:|\n",
    "| 0 < F <= 50 | 2' |\n",
    "| 50 < F <= 200 | 5' |\n",
    "| 200 < F <= 500 | 8' |\n",
    "| 500 < F <= 1500 | 10' |\n",
    "| 1500 < F <= 2500 | 15' |\n",
    "| 2500 < F <= 5000 | 22' |\n",
    "| 5000 < F | 30' |"
   ]
  },
  {
   "cell_type": "code",
   "execution_count": 15,
   "metadata": {},
   "outputs": [],
   "source": [
    "## Drive Distance mapping as table below\n",
    "drive_map= {\n",
    "    0 : 2,\n",
    "    50 : 5,\n",
    "    200 : 8,\n",
    "    500 : 10,\n",
    "    1500 : 15,\n",
    "    2500 : 22,\n",
    "    5000 : 30,\n",
    "    1000000 : 1000\n",
    "}"
   ]
  },
  {
   "cell_type": "code",
   "execution_count": 16,
   "metadata": {},
   "outputs": [
    {
     "data": {
      "text/plain": [
       "[0, 50, 200, 500, 1500, 2500, 5000, 1000000]"
      ]
     },
     "execution_count": 16,
     "metadata": {},
     "output_type": "execute_result"
    }
   ],
   "source": [
    "list(drive_map.keys())"
   ]
  },
  {
   "cell_type": "code",
   "execution_count": 17,
   "metadata": {},
   "outputs": [],
   "source": [
    "## Assign the mapping to each store based on ther floospace\n",
    "gdf_stores['Reach'] = pd.cut(gdf_stores['Floorspace'], bins=list(drive_map.keys()),labels=list(drive_map.values())[:-1], include_lowest=True )"
   ]
  },
  {
   "cell_type": "code",
   "execution_count": 18,
   "metadata": {},
   "outputs": [],
   "source": [
    "gdf_stores['Reach'] = gdf_stores['Reach'].astype(int)"
   ]
  },
  {
   "cell_type": "code",
   "execution_count": 19,
   "metadata": {},
   "outputs": [],
   "source": [
    "## Calculate no branches in Lagos\n",
    "gdf_stores = pd.merge(gdf_stores, gdf_stores.groupby('Brand Owner').agg({'Store ID' : 'count'}).rename(columns={'Store ID':'No Branches'}), on='Brand Owner', how='left')"
   ]
  },
  {
   "cell_type": "markdown",
   "metadata": {},
   "source": [
    "### Calling the Mapbox Isochrome API of each store"
   ]
  },
  {
   "cell_type": "code",
   "execution_count": 20,
   "metadata": {},
   "outputs": [],
   "source": [
    "## Replace it with your own API key by Mapbox\n",
    "mapbox_token = 'YOUR_API_KEY'"
   ]
  },
  {
   "cell_type": "code",
   "execution_count": 22,
   "metadata": {},
   "outputs": [],
   "source": [
    "def get_isochrome(mins, lng, lat, token):\n",
    "    api_call = f'https://api.mapbox.com/isochrone/v1/mapbox/driving/{lng}%2C{lat}?contours_minutes={mins}&polygons=true&denoise=1&generalize=5&access_token={token}'    \n",
    "    res = requests.get(api_call)\n",
    "    isochrome = res.json()\n",
    "    \n",
    "    return isochrome"
   ]
  },
  {
   "cell_type": "markdown",
   "metadata": {},
   "source": [
    "### Calculate isochrone for all stores: Runing for a while"
   ]
  },
  {
   "cell_type": "code",
   "execution_count": 25,
   "metadata": {},
   "outputs": [],
   "source": [
    "### Calculate isochrone for all stores: Runing for a while\n",
    "gdf_stores['Catchment Areas'] = gdf_stores.apply(lambda x : get_isochrome( x['Reach'], x['Longitude'], x['Latitude'], mapbox_token ),axis=1)"
   ]
  },
  {
   "cell_type": "code",
   "execution_count": 26,
   "metadata": {},
   "outputs": [],
   "source": [
    "## Get the shape from the responses - if giving error run to cell above again  - Mapbox sometimes giving errors\n",
    "gdf_stores['Catchment Areas'] = gdf_stores['Catchment Areas'].apply(lambda x  : shape(x['features'][0]['geometry']) )"
   ]
  },
  {
   "cell_type": "code",
   "execution_count": 27,
   "metadata": {},
   "outputs": [],
   "source": [
    "## read each catchments in a separate file \n",
    "gdf_catchment = gpd.GeoDataFrame(gdf_stores[['Store ID','Brand Owner', 'Floorspace']],geometry=gdf_stores['Catchment Areas'], crs='EPSG:4326')\n"
   ]
  },
  {
   "cell_type": "code",
   "execution_count": 28,
   "metadata": {},
   "outputs": [],
   "source": [
    "## Each catchment has the same competition level weight\n",
    "gdf_catchment['competition_level'] = 1"
   ]
  },
  {
   "cell_type": "code",
   "execution_count": 29,
   "metadata": {},
   "outputs": [],
   "source": [
    "## Save each catchment areas in a shapefile\n",
    "gdf_catchment.to_file(\"./final_data/store_catchment.geojson\", driver='GeoJSON')"
   ]
  },
  {
   "cell_type": "code",
   "execution_count": 30,
   "metadata": {},
   "outputs": [
    {
     "data": {
      "text/plain": [
       "<AxesSubplot:>"
      ]
     },
     "execution_count": 30,
     "metadata": {},
     "output_type": "execute_result"
    },
    {
     "data": {
      "image/png": "[encoded data removed]",
      "text/plain": [
       "<Figure size 1440x576 with 1 Axes>"
      ]
     },
     "metadata": {
      "needs_background": "light"
     },
     "output_type": "display_data"
    }
   ],
   "source": [
    "gdf_catchment.plot(alpha=0.05, figsize=(20,8))"
   ]
  },
  {
   "cell_type": "markdown",
   "metadata": {},
   "source": [
    "## Assign competiton level to each grid\n",
    "Read Population Grid (already created) in 1Data Processing script"
   ]
  },
  {
   "cell_type": "code",
   "execution_count": 31,
   "metadata": {},
   "outputs": [],
   "source": [
    "lagos_pop_grid = gpd.read_file(\"./data/lagos_grid_pop.geojson\", driver='GeoJSON')"
   ]
  },
  {
   "cell_type": "code",
   "execution_count": 32,
   "metadata": {},
   "outputs": [],
   "source": [
    "gdf_catchment = gpd.read_file(\"./final_data/store_catchment.geojson\", driver='GeoJSON')"
   ]
  },
  {
   "cell_type": "code",
   "execution_count": 33,
   "metadata": {},
   "outputs": [
    {
     "data": {
      "text/plain": [
       "5634"
      ]
     },
     "execution_count": 33,
     "metadata": {},
     "output_type": "execute_result"
    }
   ],
   "source": [
    "### inner not good\n",
    "len(lagos_pop_grid)"
   ]
  },
  {
   "cell_type": "code",
   "execution_count": 34,
   "metadata": {},
   "outputs": [],
   "source": [
    "grid_catchment = gpd.sjoin(lagos_pop_grid, gdf_catchment, op=\"intersects\", how=\"left\")"
   ]
  },
  {
   "cell_type": "markdown",
   "metadata": {},
   "source": [
    "##### Add the number of grid the store reaches"
   ]
  },
  {
   "cell_type": "code",
   "execution_count": 35,
   "metadata": {},
   "outputs": [],
   "source": [
    "### Add the number of grid the store reaches data to the store fle\n",
    "gdf_stores = pd.merge(gdf_stores, grid_catchment.groupby('Store ID').agg({'grid_id' : 'nunique', 'nga_general_2020' : 'sum'}), on=\"Store ID\", how=\"left\")"
   ]
  },
  {
   "cell_type": "code",
   "execution_count": 36,
   "metadata": {},
   "outputs": [],
   "source": [
    "## Save to use it in the tool\n",
    "gdf_stores.drop(columns=['Catchment Areas']).to_file('./final_data/lagos_stores.geojson', driver=\"GeoJSON\")"
   ]
  },
  {
   "cell_type": "code",
   "execution_count": null,
   "metadata": {},
   "outputs": [],
   "source": []
  },
  {
   "cell_type": "code",
   "execution_count": 37,
   "metadata": {},
   "outputs": [],
   "source": [
    "grid_catchment=grid_catchment.groupby('grid_id').agg({'competition_level' : 'sum', 'Floorspace' : ['sum', 'mean'], 'Store ID' : [list, 'count'], 'Brand Owner' : 'nunique' })"
   ]
  },
  {
   "cell_type": "code",
   "execution_count": 38,
   "metadata": {},
   "outputs": [],
   "source": [
    "## Flatten columns \n",
    "grid_catchment.columns = ['_'.join(col).strip() for col in grid_catchment.columns.values]"
   ]
  },
  {
   "cell_type": "code",
   "execution_count": 39,
   "metadata": {},
   "outputs": [],
   "source": [
    "## Rename cols\n",
    "grid_catchment.rename(columns={'competition_level_sum' : 'competition_level', 'Store ID_list' : 'store_id', 'Store ID_count' : 'no_stores', 'Brand Owner_nunique' : 'no_chains'}, inplace = True)"
   ]
  },
  {
   "cell_type": "code",
   "execution_count": 40,
   "metadata": {},
   "outputs": [],
   "source": [
    "lagos_pop_grid = pd.merge(lagos_pop_grid,  grid_catchment, how=\"left\", on=\"grid_id\")"
   ]
  },
  {
   "cell_type": "code",
   "execution_count": 41,
   "metadata": {},
   "outputs": [],
   "source": [
    "#lagos_pop_grid['Store ID'] = lagos_pop_grid['Store ID'].astype(str)"
   ]
  },
  {
   "cell_type": "code",
   "execution_count": 42,
   "metadata": {},
   "outputs": [],
   "source": [
    "lagos_pop_grid['store_id'] = lagos_pop_grid['store_id'].apply(lambda x : '' if pd.isna(x[0])  else \", \".join(x))"
   ]
  },
  {
   "cell_type": "code",
   "execution_count": null,
   "metadata": {},
   "outputs": [],
   "source": []
  },
  {
   "cell_type": "markdown",
   "metadata": {},
   "source": [
    "# Night-time Light Data - Relative Wealth Lvl\n",
    "Data from VIIRS DNB\n"
   ]
  },
  {
   "cell_type": "code",
   "execution_count": 43,
   "metadata": {},
   "outputs": [],
   "source": [
    "from rasterstats import zonal_stats"
   ]
  },
  {
   "cell_type": "code",
   "execution_count": 44,
   "metadata": {},
   "outputs": [
    {
     "name": "stderr",
     "output_type": "stream",
     "text": [
      "/opt/conda/envs/sds2020/lib/python3.7/site-packages/rasterstats/io.py:301: UserWarning: Setting nodata to -999; specify nodata explicitly\n",
      "  warnings.warn(\"Setting nodata to -999; specify nodata explicitly\")\n"
     ]
    }
   ],
   "source": [
    "light_grids = zonal_stats(lagos_pop_grid, \"./data/Lagos_nightlight_20210619.tif\")"
   ]
  },
  {
   "cell_type": "markdown",
   "metadata": {},
   "source": [
    "#### Add light data mean to the grids GEOJSON"
   ]
  },
  {
   "cell_type": "code",
   "execution_count": 45,
   "metadata": {},
   "outputs": [],
   "source": [
    "lagos_pop_grid['light_mean']= [i['mean'] for i in light_grids]\n",
    "lagos_pop_grid['light_min']= [i['min'] for i in light_grids]\n",
    "lagos_pop_grid['light_max']= [i['max'] for i in light_grids]"
   ]
  },
  {
   "cell_type": "code",
   "execution_count": 46,
   "metadata": {},
   "outputs": [
    {
     "data": {
      "text/plain": [
       "<AxesSubplot:>"
      ]
     },
     "execution_count": 46,
     "metadata": {},
     "output_type": "execute_result"
    },
    {
     "data": {
      "image/png": "[encoded data removed]",
      "text/plain": [
       "<Figure size 2160x1440 with 1 Axes>"
      ]
     },
     "metadata": {
      "needs_background": "light"
     },
     "output_type": "display_data"
    }
   ],
   "source": [
    "lagos_pop_grid.plot(column='light_mean', figsize=(30,20))"
   ]
  },
  {
   "cell_type": "markdown",
   "metadata": {},
   "source": [
    "# Land Cover - Urbanisation\n",
    "data from Copernicus Global\n",
    "\n",
    "info: https://land.copernicus.eu/global/sites/cgls.vito.be/files/products/CGLOPS1_PUM_LC100m-V3_I3.4.pdf"
   ]
  },
  {
   "cell_type": "code",
   "execution_count": 47,
   "metadata": {},
   "outputs": [],
   "source": [
    "#https://land.copernicus.eu/global/sites/cgls.vito.be/files/products/CGLOPS1_PUM_LC100m-V3_I3.4.pdf\n",
    "#cmap = {50 : 'built-up', 112 :'forest', 126 : 'forest', 80 :' water', 200 : 'water'}"
   ]
  },
  {
   "cell_type": "code",
   "execution_count": 48,
   "metadata": {},
   "outputs": [],
   "source": [
    "land_grids = zonal_stats(lagos_pop_grid, \"./data/Lagos_landcover.tif\", categorical=True)"
   ]
  },
  {
   "cell_type": "code",
   "execution_count": 49,
   "metadata": {},
   "outputs": [],
   "source": [
    "# 50 - code for uban"
   ]
  },
  {
   "cell_type": "code",
   "execution_count": 50,
   "metadata": {},
   "outputs": [],
   "source": [
    "## Calculate urbanisation rate\n",
    "urban_level = [ 0 if i.get(50) is None else (i.get(50) /  sum(i.values())) for i in land_grids]"
   ]
  },
  {
   "cell_type": "code",
   "execution_count": 51,
   "metadata": {},
   "outputs": [],
   "source": [
    "lagos_pop_grid['urban_level'] = urban_level\n",
    "lagos_pop_grid['land_cover'] = land_grids"
   ]
  },
  {
   "cell_type": "markdown",
   "metadata": {},
   "source": [
    "### Save File\n",
    "still not final lagos_gird - 3Data Processing is for Finalise data outputs"
   ]
  },
  {
   "cell_type": "code",
   "execution_count": 53,
   "metadata": {},
   "outputs": [],
   "source": [
    "lagos_pop_grid.to_file(\"./data/lagos_grid.geojson\", driver='GeoJSON')"
   ]
  },
  {
   "cell_type": "code",
   "execution_count": null,
   "metadata": {},
   "outputs": [],
   "source": []
  },
  {
   "cell_type": "code",
   "execution_count": null,
   "metadata": {},
   "outputs": [],
   "source": []
  },
  {
   "cell_type": "code",
   "execution_count": null,
   "metadata": {},
   "outputs": [],
   "source": []
  },
  {
   "cell_type": "code",
   "execution_count": null,
   "metadata": {},
   "outputs": [],
   "source": []
  },
  {
   "cell_type": "markdown",
   "metadata": {},
   "source": [
    "---"
   ]
  },
  {
   "cell_type": "markdown",
   "metadata": {},
   "source": [
    "## Creating Lagos Grid Net - Not in Use"
   ]
  },
  {
   "cell_type": "code",
   "execution_count": null,
   "metadata": {},
   "outputs": [],
   "source": [
    "#http://rcn.montana.edu/Resources/Converter.aspx\n",
    "\n",
    "#https://tool-online.com/en/coordinate-converter.php\n",
    "\n",
    "# start: 710000; 345000\n",
    "# 6.37803852; 3.09767755"
   ]
  },
  {
   "cell_type": "code",
   "execution_count": null,
   "metadata": {},
   "outputs": [],
   "source": [
    "startcoord = (6.4, 3.06)\n",
    "x = 80000 # 80km\n",
    "y = 40000 # 40km\n",
    "grid_size = 500"
   ]
  },
  {
   "cell_type": "code",
   "execution_count": null,
   "metadata": {},
   "outputs": [],
   "source": [
    "x/grid_size"
   ]
  },
  {
   "cell_type": "code",
   "execution_count": null,
   "metadata": {},
   "outputs": [],
   "source": [
    "y_coords = [ i * grid_size for i in range(round(y/grid_size))]"
   ]
  },
  {
   "cell_type": "code",
   "execution_count": null,
   "metadata": {},
   "outputs": [],
   "source": [
    "x_coords = [ i * grid_size for i in range(round(x/grid_size))]"
   ]
  },
  {
   "cell_type": "code",
   "execution_count": null,
   "metadata": {},
   "outputs": [],
   "source": [
    "left = []\n",
    "for y in y_coords:\n",
    "    for x in x_coords:\n",
    "        left.append([x,y])"
   ]
  },
  {
   "cell_type": "code",
   "execution_count": null,
   "metadata": {},
   "outputs": [],
   "source": [
    "grids = np.array(left)"
   ]
  },
  {
   "cell_type": "code",
   "execution_count": null,
   "metadata": {},
   "outputs": [],
   "source": [
    "df = pd.DataFrame(grids, columns=['left','bottom'])"
   ]
  },
  {
   "cell_type": "code",
   "execution_count": null,
   "metadata": {},
   "outputs": [],
   "source": [
    "df['top'] = df['bottom'] + grid_size\n",
    "df['right'] = df['left'] + grid_size\n"
   ]
  },
  {
   "cell_type": "code",
   "execution_count": null,
   "metadata": {},
   "outputs": [],
   "source": [
    "df[['right','left']] = df[['right','left']] + 345000\n",
    "df[['top','bottom']]  = df[['top','bottom']] + 710000"
   ]
  },
  {
   "cell_type": "code",
   "execution_count": null,
   "metadata": {},
   "outputs": [],
   "source": [
    "polys = []\n",
    "for i in df.values:\n",
    "    polys.append(Polygon([[i[0], i[1]], [i[3], i[1]], [i[3], i[2]], [i[0], i[2]]]) )"
   ]
  },
  {
   "cell_type": "code",
   "execution_count": null,
   "metadata": {},
   "outputs": [],
   "source": []
  },
  {
   "cell_type": "code",
   "execution_count": null,
   "metadata": {},
   "outputs": [],
   "source": [
    "# WGS84 Web Mercator (in meters)\n",
    "gdf  = gpd.GeoDataFrame(geometry=polys, crs=\"EPSG:3857\")"
   ]
  },
  {
   "cell_type": "code",
   "execution_count": null,
   "metadata": {},
   "outputs": [],
   "source": [
    "# WGS84\n",
    "gdf = gdf.to_crs('EPSG:4326')"
   ]
  },
  {
   "cell_type": "code",
   "execution_count": null,
   "metadata": {},
   "outputs": [],
   "source": [
    "gdf.crs"
   ]
  },
  {
   "cell_type": "code",
   "execution_count": null,
   "metadata": {},
   "outputs": [],
   "source": [
    "gdf['value'] = np.random.rand(1,len(gdf))[0]"
   ]
  },
  {
   "cell_type": "code",
   "execution_count": null,
   "metadata": {},
   "outputs": [],
   "source": [
    "gdf.to_file(\"lagos_grid_cover.geojson\", driver='GeoJSON')"
   ]
  },
  {
   "cell_type": "code",
   "execution_count": null,
   "metadata": {},
   "outputs": [],
   "source": []
  },
  {
   "cell_type": "code",
   "execution_count": null,
   "metadata": {},
   "outputs": [],
   "source": [
    "## Distance Calc\n",
    "#https://stackoverflow.com/questions/27928/calculate-distance-between-two-latitude-longitude-points-haversine-formula?rq=1\n",
    "    \n",
    "function distance(lat1, lon1, lat2, lon2) {\n",
    "  var p = 0.017453292519943295;    // Math.PI / 180\n",
    "  var c = Math.cos;\n",
    "  var a = 0.5 - c((lat2 - lat1) * p)/2 + \n",
    "          c(lat1 * p) * c(lat2 * p) * \n",
    "          (1 - c((lon2 - lon1) * p))/2;\n",
    "\n",
    "  return 12742 * Math.asin(Math.sqrt(a)); // 2 * R; R = 6371 km\n",
    "}"
   ]
  },
  {
   "cell_type": "code",
   "execution_count": null,
   "metadata": {},
   "outputs": [],
   "source": [
    "len(gdf) * 400"
   ]
  },
  {
   "cell_type": "markdown",
   "metadata": {},
   "source": [
    "---"
   ]
  },
  {
   "cell_type": "markdown",
   "metadata": {},
   "source": [
    "# Huff - Gravity Modell - not in Use"
   ]
  },
  {
   "cell_type": "markdown",
   "metadata": {},
   "source": [
    "### Create Distance Matrix"
   ]
  },
  {
   "cell_type": "code",
   "execution_count": null,
   "metadata": {},
   "outputs": [],
   "source": [
    "# from scipy.spatial import distance_matrix\n",
    "# from sklearn.preprocessing import MinMaxScaler\n",
    "# scaler = MinMaxScaler()"
   ]
  },
  {
   "cell_type": "code",
   "execution_count": null,
   "metadata": {},
   "outputs": [],
   "source": [
    "## read store data\n",
    "df_stores = pd.read_csv('lagos_stores.csv')"
   ]
  },
  {
   "cell_type": "code",
   "execution_count": null,
   "metadata": {},
   "outputs": [],
   "source": [
    "gdf_stores = gpd.GeoDataFrame(df_stores, geometry=gpd.points_from_xy(df_stores.Longitude, df_stores.Latitude), crs='EPSG:4326')"
   ]
  },
  {
   "cell_type": "code",
   "execution_count": null,
   "metadata": {},
   "outputs": [],
   "source": [
    "#filter for the intrested formats\n",
    "gdf_stores = gdf_stores[gdf_stores['Format'].isin(['Supermarket (Supermarkets, Hypermarkets and Department Stores)','Convenience and Forecourt'])]\n",
    "gdf_stores = gdf_stores[gdf_stores['Status']=='Open']"
   ]
  },
  {
   "cell_type": "code",
   "execution_count": null,
   "metadata": {},
   "outputs": [],
   "source": [
    "len(gdf_stores)"
   ]
  },
  {
   "cell_type": "markdown",
   "metadata": {},
   "source": [
    "#### Calculate Distances between the centre of grids and the store (few mins to run)"
   ]
  },
  {
   "cell_type": "code",
   "execution_count": null,
   "metadata": {},
   "outputs": [],
   "source": [
    "df = pd.DataFrame()\n",
    "for i in range(len(gdf_stores)):\n",
    "    df['distance_' + str(i)] = lagos_pop_grid.to_crs('EPSG:3857').geometry.centroid.distance(gdf_stores.to_crs('EPSG:3857').iloc[i].geometry)"
   ]
  },
  {
   "cell_type": "code",
   "execution_count": null,
   "metadata": {},
   "outputs": [],
   "source": [
    "df.head()"
   ]
  },
  {
   "cell_type": "markdown",
   "metadata": {},
   "source": [
    "#### Incorporate attractiveness (this case - store size)"
   ]
  },
  {
   "cell_type": "code",
   "execution_count": null,
   "metadata": {},
   "outputs": [],
   "source": [
    "#600 * (df['distance_0'] * df['distance_0'])"
   ]
  },
  {
   "cell_type": "code",
   "execution_count": null,
   "metadata": {},
   "outputs": [],
   "source": [
    "## Transform Floorspace column to do the equatioan matrix level (avoiding loops)\n",
    "df_floorspace = gdf_stores[['Floorspace']].T\n",
    "df_floorspace = df_floorspace.loc[df_floorspace.index.repeat(len(df))]\n",
    "df_floorspace.columns = df.columns\n",
    "df_floorspace.index = df.index"
   ]
  },
  {
   "cell_type": "code",
   "execution_count": null,
   "metadata": {},
   "outputs": [],
   "source": [
    "## Creating Attractiveness dataframe"
   ]
  },
  {
   "cell_type": "code",
   "execution_count": null,
   "metadata": {},
   "outputs": [],
   "source": [
    "df_attractiveness = df_floorspace / (df * df)"
   ]
  },
  {
   "cell_type": "code",
   "execution_count": null,
   "metadata": {},
   "outputs": [],
   "source": [
    "#Total Attractiveness Score of each grid\n",
    "df_attractiveness['total_attr'] = df_attractiveness.sum(axis=1)"
   ]
  },
  {
   "cell_type": "code",
   "execution_count": null,
   "metadata": {},
   "outputs": [],
   "source": [
    "## Add Attractiveness to the grids"
   ]
  },
  {
   "cell_type": "code",
   "execution_count": null,
   "metadata": {},
   "outputs": [],
   "source": [
    "df_attractiveness.index.name = 'grid_id'  "
   ]
  },
  {
   "cell_type": "code",
   "execution_count": null,
   "metadata": {},
   "outputs": [],
   "source": [
    "## Adding the total attractiveness to the shapes:\n",
    "lagos_pop_grid =  pd.merge(lagos_pop_grid, df_attractiveness[['total_attr']], how=\"left\", on='grid_id')"
   ]
  },
  {
   "cell_type": "code",
   "execution_count": null,
   "metadata": {},
   "outputs": [],
   "source": [
    "lagos_pop_grid['total_attr'].plot.hist(bins=20)"
   ]
  },
  {
   "cell_type": "code",
   "execution_count": null,
   "metadata": {},
   "outputs": [],
   "source": [
    "## Min - Max Rescale Attractiveness\n",
    "lagos_pop_grid['total_attr'] = ((lagos_pop_grid['total_attr'] - lagos_pop_grid['total_attr'].min()) / (lagos_pop_grid['total_attr'].max() - lagos_pop_grid['total_attr'].min())) * 100   "
   ]
  },
  {
   "cell_type": "code",
   "execution_count": null,
   "metadata": {},
   "outputs": [],
   "source": [
    "lagos_pop_grid.to_file(\"lagos_grid_pop.geojson\", driver='GeoJSON')"
   ]
  },
  {
   "cell_type": "code",
   "execution_count": null,
   "metadata": {},
   "outputs": [],
   "source": []
  },
  {
   "cell_type": "code",
   "execution_count": null,
   "metadata": {},
   "outputs": [],
   "source": []
  },
  {
   "cell_type": "markdown",
   "metadata": {},
   "source": [
    "#### Probablilities - each store's market share in the areas"
   ]
  },
  {
   "cell_type": "code",
   "execution_count": null,
   "metadata": {},
   "outputs": [],
   "source": [
    "df_market_share = df_attractiveness.iloc[:,:-1].div( df_attractiveness['total_attr'], axis=0)"
   ]
  },
  {
   "cell_type": "code",
   "execution_count": null,
   "metadata": {},
   "outputs": [],
   "source": [
    "df_market_share.columns = [ 'market_share_' +  str(i) for i in range(len(df_market_share.columns))]"
   ]
  },
  {
   "cell_type": "code",
   "execution_count": null,
   "metadata": {},
   "outputs": [],
   "source": [
    "df_market_share.describe()"
   ]
  },
  {
   "cell_type": "code",
   "execution_count": null,
   "metadata": {},
   "outputs": [],
   "source": []
  },
  {
   "cell_type": "code",
   "execution_count": null,
   "metadata": {},
   "outputs": [],
   "source": []
  },
  {
   "cell_type": "code",
   "execution_count": null,
   "metadata": {},
   "outputs": [],
   "source": []
  },
  {
   "cell_type": "code",
   "execution_count": null,
   "metadata": {},
   "outputs": [],
   "source": []
  }
 ],
 "metadata": {
  "kernelspec": {
   "display_name": "Python 3",
   "language": "python",
   "name": "python3"
  },
  "language_info": {
   "codemirror_mode": {
    "name": "ipython",
    "version": 3
   },
   "file_extension": ".py",
   "mimetype": "text/x-python",
   "name": "python",
   "nbconvert_exporter": "python",
   "pygments_lexer": "ipython3",
   "version": "3.7.8"
  }
 },
 "nbformat": 4,
 "nbformat_minor": 4
}
