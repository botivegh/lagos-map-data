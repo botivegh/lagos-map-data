{
 "cells": [
  {
   "cell_type": "markdown",
   "metadata": {},
   "source": [
    "# 1. Data Processing - Population Data, Create Grids\n",
    "___\n",
    "### HRSL Population data (.CSV) transformation to 500m by 500m grid GeoJson"
   ]
  },
  {
   "cell_type": "markdown",
   "metadata": {},
   "source": [
    "##### Import needed libraries"
   ]
  },
  {
   "cell_type": "code",
   "execution_count": 1,
   "metadata": {},
   "outputs": [],
   "source": [
    "import geopandas as gpd\n",
    "import pandas as pd\n",
    "import numpy as np\n",
    "from shapely.geometry import Point, LineString, Polygon, shape\n",
    "import math\n",
    "import seaborn as sns\n",
    "import requests\n",
    "import json"
   ]
  },
  {
   "cell_type": "markdown",
   "metadata": {},
   "source": [
    "### Lagos Wards\n",
    "data available on the link https://grid3.gov.ng/dataset/lagos-operational-ward-boundaries#\n",
    "\n",
    "To Download: https://geoserver.grid3.gov.ng/geoserver/GRIDMaster/ows?service=WFS&version=1.0.0&request=GetFeature&typeName=GRIDMaster:u_boundary_wards&outputFormat=application%2Fjson&CQL_FILTER=state_code%3D%27LA%27"
   ]
  },
  {
   "cell_type": "code",
   "execution_count": 2,
   "metadata": {},
   "outputs": [],
   "source": [
    "lagos_ward = gpd.read_file(\"./data/Lagos_wards.geojson\")"
   ]
  },
  {
   "cell_type": "code",
   "execution_count": 3,
   "metadata": {},
   "outputs": [
    {
     "data": {
      "text/plain": [
       "<AxesSubplot:>"
      ]
     },
     "execution_count": 3,
     "metadata": {},
     "output_type": "execute_result"
    },
    {
     "data": {
      "image/png": "[encoded data removed]",
      "text/plain": [
       "<Figure size 432x288 with 1 Axes>"
      ]
     },
     "metadata": {
      "needs_background": "light"
     },
     "output_type": "display_data"
    }
   ],
   "source": [
    "lagos_ward.plot()"
   ]
  },
  {
   "cell_type": "markdown",
   "metadata": {},
   "source": [
    "#### Extract the extent of Lagos so the Nigeria population data can be reduce to the bounding box of Lagos\n"
   ]
  },
  {
   "cell_type": "code",
   "execution_count": 4,
   "metadata": {},
   "outputs": [
    {
     "data": {
      "text/plain": [
       "array([2.6988308, 6.3678255, 4.3686295, 6.7004372])"
      ]
     },
     "execution_count": 4,
     "metadata": {},
     "output_type": "execute_result"
    }
   ],
   "source": [
    "extent = lagos_ward.total_bounds\n",
    "extent"
   ]
  },
  {
   "cell_type": "markdown",
   "metadata": {},
   "source": [
    "### HRSL Population Datasets\n",
    "\n",
    "All 6 data files are available on the Humanitarian Data Exchange\n",
    "Link: https://data.humdata.org/dataset/highresolutionpopulationdensitymaps-nga\n",
    "\n",
    "If the links are not working, try to download them"
   ]
  },
  {
   "cell_type": "code",
   "execution_count": 5,
   "metadata": {},
   "outputs": [],
   "source": [
    "links =  {\n",
    "    'total' : 'https://data.humdata.org/dataset/62ec6c48-2f23-476b-8c1e-e924ad79908d/resource/ec1ac1b2-616e-43a7-ba8c-29eaf3479f24/download/nga_general_2020_csv.zip',\n",
    "    'u5' : 'https://data.humdata.org/dataset/62ec6c48-2f23-476b-8c1e-e924ad79908d/resource/bf7f28a8-e49a-4d2a-99e4-354bc783eb6d/download/nga_children_under_five_2020_csv.zip',\n",
    "    '60+' : 'https://data.humdata.org/dataset/62ec6c48-2f23-476b-8c1e-e924ad79908d/resource/e5006c78-ee45-4ec5-866b-edf22e07ccb0/download/nga_elderly_60_plus_2020_csv.zip',\n",
    "    'men' : 'https://data.humdata.org/dataset/62ec6c48-2f23-476b-8c1e-e924ad79908d/resource/56b75eea-196a-4597-a561-77d1e226a5de/download/nga_men_2020_csv.zip',\n",
    "    'women' : 'https://data.humdata.org/dataset/62ec6c48-2f23-476b-8c1e-e924ad79908d/resource/5c5a2da6-3f3f-4376-8cfc-15dc49e7be28/download/nga_women_2020_csv.zip',\n",
    "    '15-24' : 'https://data.humdata.org/dataset/62ec6c48-2f23-476b-8c1e-e924ad79908d/resource/46523605-752f-4084-bd6f-f12c5cb11f28/download/nga_youth_15_24_2020_csv.zip', \n",
    "}"
   ]
  },
  {
   "cell_type": "markdown",
   "metadata": {},
   "source": [
    "## INDEX need to be set manually based on which population file should be processed!\n",
    "values: 0 - 5"
   ]
  },
  {
   "cell_type": "code",
   "execution_count": 6,
   "metadata": {},
   "outputs": [],
   "source": [
    "INDEX = 0"
   ]
  },
  {
   "cell_type": "markdown",
   "metadata": {},
   "source": [
    "### Population Grid Size\n",
    "\n",
    "Define the size of the grids in meters"
   ]
  },
  {
   "cell_type": "code",
   "execution_count": 10,
   "metadata": {},
   "outputs": [],
   "source": [
    "grid_size = 500"
   ]
  },
  {
   "cell_type": "code",
   "execution_count": 11,
   "metadata": {},
   "outputs": [],
   "source": [
    "## FB nigeria Pop data read\n",
    "df_pop = pd.read_csv(list(links.values())[INDEX])"
   ]
  },
  {
   "cell_type": "code",
   "execution_count": 12,
   "metadata": {},
   "outputs": [
    {
     "data": {
      "text/html": [
       "<div>\n",
       "<style scoped>\n",
       "    .dataframe tbody tr th:only-of-type {\n",
       "        vertical-align: middle;\n",
       "    }\n",
       "\n",
       "    .dataframe tbody tr th {\n",
       "        vertical-align: top;\n",
       "    }\n",
       "\n",
       "    .dataframe thead th {\n",
       "        text-align: right;\n",
       "    }\n",
       "</style>\n",
       "<table border=\"1\" class=\"dataframe\">\n",
       "  <thead>\n",
       "    <tr style=\"text-align: right;\">\n",
       "      <th></th>\n",
       "      <th>longitude</th>\n",
       "      <th>latitude</th>\n",
       "      <th>nga_general_2020</th>\n",
       "    </tr>\n",
       "  </thead>\n",
       "  <tbody>\n",
       "    <tr>\n",
       "      <th>0</th>\n",
       "      <td>2.477222</td>\n",
       "      <td>14.0</td>\n",
       "      <td>16.599508</td>\n",
       "    </tr>\n",
       "    <tr>\n",
       "      <th>1</th>\n",
       "      <td>2.477500</td>\n",
       "      <td>14.0</td>\n",
       "      <td>16.599508</td>\n",
       "    </tr>\n",
       "    <tr>\n",
       "      <th>2</th>\n",
       "      <td>2.477778</td>\n",
       "      <td>14.0</td>\n",
       "      <td>16.599508</td>\n",
       "    </tr>\n",
       "  </tbody>\n",
       "</table>\n",
       "</div>"
      ],
      "text/plain": [
       "   longitude  latitude  nga_general_2020\n",
       "0   2.477222      14.0         16.599508\n",
       "1   2.477500      14.0         16.599508\n",
       "2   2.477778      14.0         16.599508"
      ]
     },
     "execution_count": 12,
     "metadata": {},
     "output_type": "execute_result"
    }
   ],
   "source": [
    "## Filter of Lagos\n",
    "df_pop.head(3)"
   ]
  },
  {
   "cell_type": "markdown",
   "metadata": {},
   "source": [
    "### Filter for population data in the Lagos bounding box and areas"
   ]
  },
  {
   "cell_type": "code",
   "execution_count": 15,
   "metadata": {},
   "outputs": [],
   "source": [
    "df_lagos_pop = df_pop[(df_pop.longitude >= extent[0]) & (df_pop.longitude <= extent[2]) & (df_pop.latitude >= extent[1]) & (df_pop.latitude <= extent[3])]"
   ]
  },
  {
   "cell_type": "code",
   "execution_count": 16,
   "metadata": {},
   "outputs": [],
   "source": [
    "## For memory efficency purposes\n",
    "del df_pop"
   ]
  },
  {
   "cell_type": "code",
   "execution_count": 17,
   "metadata": {},
   "outputs": [],
   "source": [
    "### Transform to GeoPandas Dataframe\n",
    "lagos_pop = gpd.GeoDataFrame(df_lagos_pop, geometry=gpd.points_from_xy(df_lagos_pop.longitude, df_lagos_pop.latitude), crs='EPSG:4326')"
   ]
  },
  {
   "cell_type": "code",
   "execution_count": 18,
   "metadata": {},
   "outputs": [],
   "source": [
    "## filter down more to the shapes \n",
    "lagos_pop = gpd.sjoin(lagos_pop, lagos_ward,op=\"within\", how='left')\n",
    "lagos_pop.dropna(subset=['ward_code'], inplace=True)"
   ]
  },
  {
   "cell_type": "code",
   "execution_count": 38,
   "metadata": {},
   "outputs": [],
   "source": [
    "## The name of the population attribute is depending on the selected pop data loaded in, but alwasy the 3th column\n",
    "pop_attr = lagos_pop.columns[2]"
   ]
  },
  {
   "cell_type": "code",
   "execution_count": 39,
   "metadata": {},
   "outputs": [],
   "source": [
    "## Pop of ward\n",
    "#lagos_ward = pd.merge(lagos_ward, lagos_pop.groupby('ward_code').agg({ pop_attr:'sum'}), on='ward_code')"
   ]
  },
  {
   "cell_type": "markdown",
   "metadata": {},
   "source": [
    "### Covert to meters "
   ]
  },
  {
   "cell_type": "code",
   "execution_count": 21,
   "metadata": {},
   "outputs": [],
   "source": [
    "## Convert To Meters - grid size in meters, therefore it needs to be converted\n",
    "lagos_pop = lagos_pop.to_crs('EPSG:3857')"
   ]
  },
  {
   "cell_type": "code",
   "execution_count": 22,
   "metadata": {},
   "outputs": [],
   "source": [
    "lagos_pop['lat_m']  = lagos_pop.geometry.x\n",
    "lagos_pop['lng_m']  = lagos_pop.geometry.y"
   ]
  },
  {
   "cell_type": "code",
   "execution_count": 23,
   "metadata": {},
   "outputs": [],
   "source": [
    "## coords in meters saved no we convert back\n",
    "lagos_pop = lagos_pop.to_crs('EPSG:4326')"
   ]
  },
  {
   "cell_type": "markdown",
   "metadata": {},
   "source": [
    "### Calculate the population within the grids\n",
    "The calcualtion done by rounding down the coords (in meters) to the closest 500 "
   ]
  },
  {
   "cell_type": "code",
   "execution_count": 24,
   "metadata": {},
   "outputs": [],
   "source": [
    "lagos_pop[['grid_x', 'grid_y']] = np.floor(lagos_pop[['lat_m', 'lng_m']] / grid_size).astype(int) * grid_size"
   ]
  },
  {
   "cell_type": "code",
   "execution_count": 25,
   "metadata": {},
   "outputs": [],
   "source": [
    "## Defined grid ID is the left, bottom coords of the squares\n",
    "\n",
    "lagos_pop['grid_id'] = lagos_pop['grid_x'].astype(str) + \"_\" +  lagos_pop['grid_y'].astype(str)  "
   ]
  },
  {
   "cell_type": "code",
   "execution_count": 26,
   "metadata": {},
   "outputs": [],
   "source": [
    "lagos_pop_grid = lagos_pop.groupby('grid_id').agg({ pop_attr:'sum', 'grid_x' : 'first', 'grid_y' : 'first', 'ward_name' : 'first'})"
   ]
  },
  {
   "cell_type": "code",
   "execution_count": 27,
   "metadata": {},
   "outputs": [
    {
     "data": {
      "text/html": [
       "<div>\n",
       "<style scoped>\n",
       "    .dataframe tbody tr th:only-of-type {\n",
       "        vertical-align: middle;\n",
       "    }\n",
       "\n",
       "    .dataframe tbody tr th {\n",
       "        vertical-align: top;\n",
       "    }\n",
       "\n",
       "    .dataframe thead th {\n",
       "        text-align: right;\n",
       "    }\n",
       "</style>\n",
       "<table border=\"1\" class=\"dataframe\">\n",
       "  <thead>\n",
       "    <tr style=\"text-align: right;\">\n",
       "      <th></th>\n",
       "      <th>nga_general_2020</th>\n",
       "      <th>grid_x</th>\n",
       "      <th>grid_y</th>\n",
       "      <th>ward_name</th>\n",
       "    </tr>\n",
       "    <tr>\n",
       "      <th>grid_id</th>\n",
       "      <th></th>\n",
       "      <th></th>\n",
       "      <th></th>\n",
       "      <th></th>\n",
       "    </tr>\n",
       "  </thead>\n",
       "  <tbody>\n",
       "    <tr>\n",
       "      <th>300500_711000</th>\n",
       "      <td>1103.546013</td>\n",
       "      <td>300500</td>\n",
       "      <td>711000</td>\n",
       "      <td>Gbethrome</td>\n",
       "    </tr>\n",
       "    <tr>\n",
       "      <th>300500_711500</th>\n",
       "      <td>1580.077246</td>\n",
       "      <td>300500</td>\n",
       "      <td>711500</td>\n",
       "      <td>Gbethrome</td>\n",
       "    </tr>\n",
       "    <tr>\n",
       "      <th>300500_712000</th>\n",
       "      <td>1805.802567</td>\n",
       "      <td>300500</td>\n",
       "      <td>712000</td>\n",
       "      <td>Gbethrome</td>\n",
       "    </tr>\n",
       "  </tbody>\n",
       "</table>\n",
       "</div>"
      ],
      "text/plain": [
       "               nga_general_2020  grid_x  grid_y  ward_name\n",
       "grid_id                                                   \n",
       "300500_711000       1103.546013  300500  711000  Gbethrome\n",
       "300500_711500       1580.077246  300500  711500  Gbethrome\n",
       "300500_712000       1805.802567  300500  712000  Gbethrome"
      ]
     },
     "execution_count": 27,
     "metadata": {},
     "output_type": "execute_result"
    }
   ],
   "source": [
    "lagos_pop_grid.head(3)"
   ]
  },
  {
   "cell_type": "code",
   "execution_count": 28,
   "metadata": {},
   "outputs": [],
   "source": [
    "## define the geometry, we only have the bottom left coords but by adding 500 to those can give us the other corners of the squares\n",
    "lagos_pop_grid['geometry'] = lagos_pop_grid.apply(lambda x : Polygon([ [x.grid_x, x.grid_y], [x.grid_x + grid_size, x.grid_y],  [x.grid_x + grid_size, x.grid_y + grid_size], [x.grid_x, x.grid_y + 500]]) , axis=1)"
   ]
  },
  {
   "cell_type": "code",
   "execution_count": 32,
   "metadata": {},
   "outputs": [],
   "source": [
    "# Transform to GeoDF - crs in meters\n",
    "lagos_pop_grid = gpd.GeoDataFrame(lagos_pop_grid, crs=\"EPSG:3857\")"
   ]
  },
  {
   "cell_type": "code",
   "execution_count": 36,
   "metadata": {},
   "outputs": [
    {
     "name": "stdout",
     "output_type": "stream",
     "text": [
      "5634\n"
     ]
    },
    {
     "data": {
      "text/plain": [
       "<AxesSubplot:>"
      ]
     },
     "execution_count": 36,
     "metadata": {},
     "output_type": "execute_result"
    },
    {
     "data": {
      "image/png": "[encoded data removed]",
      "text/plain": [
       "<Figure size 432x288 with 1 Axes>"
      ]
     },
     "metadata": {
      "needs_background": "light"
     },
     "output_type": "display_data"
    }
   ],
   "source": [
    "#Check how many grids has been created and plot it\n",
    "print(len(lagos_pop_grid))\n",
    "lagos_pop_grid.plot()"
   ]
  },
  {
   "cell_type": "code",
   "execution_count": null,
   "metadata": {},
   "outputs": [],
   "source": []
  },
  {
   "cell_type": "code",
   "execution_count": 35,
   "metadata": {},
   "outputs": [],
   "source": [
    "## Transform back to WSG 84 - lng lat in degrees\n",
    "lagos_pop_grid = lagos_pop_grid.to_crs('EPSG:4326')"
   ]
  },
  {
   "cell_type": "markdown",
   "metadata": {},
   "source": [
    "#### Save the Selected and  Transformed File"
   ]
  },
  {
   "cell_type": "code",
   "execution_count": 64,
   "metadata": {},
   "outputs": [],
   "source": [
    "lagos_pop_grid.to_file(f\"./data/lagos_grid_pop_{list(links.keys())[INDEX]}.geojson\", driver='GeoJSON')"
   ]
  },
  {
   "cell_type": "markdown",
   "metadata": {},
   "source": [
    "### The INDEX value needs to be change to rerun the process for the other population files\n",
    "___"
   ]
  },
  {
   "cell_type": "markdown",
   "metadata": {},
   "source": [
    "# Merge them together\n",
    "Only when you've done it for all 6 population data files"
   ]
  },
  {
   "cell_type": "code",
   "execution_count": 7,
   "metadata": {},
   "outputs": [],
   "source": [
    "lagos_pop_grid_total = gpd.read_file(\"./data/lagos_grid_pop_total.geojson\", driver='GeoJSON')\n",
    "lagos_pop_grid_u5 = gpd.read_file(\"./data/lagos_grid_pop_u5.geojson\", driver='GeoJSON')\n",
    "lagos_pop_grid_men = gpd.read_file(\"./data/lagos_grid_pop_men.geojson\", driver='GeoJSON')\n",
    "lagos_pop_grid_women = gpd.read_file(\"./data/lagos_grid_pop_women.geojson\", driver='GeoJSON')\n",
    "lagos_pop_grid_60 = gpd.read_file(\"./data/lagos_grid_pop_60+.geojson\", driver='GeoJSON')\n",
    "lagos_pop_grid_15_24 = gpd.read_file(\"./data/lagos_grid_pop_15-24.geojson\", driver='GeoJSON')"
   ]
  },
  {
   "cell_type": "code",
   "execution_count": null,
   "metadata": {},
   "outputs": [],
   "source": []
  },
  {
   "cell_type": "code",
   "execution_count": 8,
   "metadata": {},
   "outputs": [],
   "source": [
    "lagos_pop_grid = pd.merge(lagos_pop_grid_total,  lagos_pop_grid_u5[ lagos_pop_grid_u5.columns[:2]], on=\"grid_id\")"
   ]
  },
  {
   "cell_type": "code",
   "execution_count": 9,
   "metadata": {},
   "outputs": [],
   "source": [
    "lagos_pop_grid = pd.merge(lagos_pop_grid, lagos_pop_grid_men[lagos_pop_grid_men.columns[:2]], on=\"grid_id\")"
   ]
  },
  {
   "cell_type": "code",
   "execution_count": 10,
   "metadata": {},
   "outputs": [],
   "source": [
    "lagos_pop_grid = pd.merge(lagos_pop_grid, lagos_pop_grid_women[lagos_pop_grid_women.columns[:2]], on=\"grid_id\")"
   ]
  },
  {
   "cell_type": "code",
   "execution_count": 11,
   "metadata": {},
   "outputs": [],
   "source": [
    "lagos_pop_grid = pd.merge(lagos_pop_grid, lagos_pop_grid_60[lagos_pop_grid_60.columns[:2]], on=\"grid_id\")"
   ]
  },
  {
   "cell_type": "code",
   "execution_count": 12,
   "metadata": {},
   "outputs": [],
   "source": [
    "lagos_pop_grid = pd.merge(lagos_pop_grid, lagos_pop_grid_15_24[lagos_pop_grid_15_24.columns[:2]], on=\"grid_id\")"
   ]
  },
  {
   "cell_type": "code",
   "execution_count": 91,
   "metadata": {},
   "outputs": [],
   "source": [
    "lagos_pop_grid.to_file(\"./data/lagos_grid_pop.geojson\", driver='GeoJSON')"
   ]
  },
  {
   "cell_type": "code",
   "execution_count": null,
   "metadata": {},
   "outputs": [],
   "source": []
  },
  {
   "cell_type": "code",
   "execution_count": null,
   "metadata": {},
   "outputs": [],
   "source": []
  },
  {
   "cell_type": "code",
   "execution_count": null,
   "metadata": {},
   "outputs": [],
   "source": []
  }
 ],
 "metadata": {
  "kernelspec": {
   "display_name": "Python 3",
   "language": "python",
   "name": "python3"
  },
  "language_info": {
   "codemirror_mode": {
    "name": "ipython",
    "version": 3
   },
   "file_extension": ".py",
   "mimetype": "text/x-python",
   "name": "python",
   "nbconvert_exporter": "python",
   "pygments_lexer": "ipython3",
   "version": "3.7.8"
  }
 },
 "nbformat": 4,
 "nbformat_minor": 4
}
